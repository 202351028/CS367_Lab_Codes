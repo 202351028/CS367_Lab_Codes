{
 "cells": [
  {
   "cell_type": "code",
   "execution_count": 1,
   "id": "ce3fb1cd",
   "metadata": {},
   "outputs": [],
   "source": [
    "import numpy as np\n",
    "from time import time"
   ]
  },
  {
   "cell_type": "markdown",
   "id": "02f6ba76",
   "metadata": {},
   "source": [
    "# Graph Node Class\n",
    " Represents a node in the search graph.  \n",
    "\n",
    "    - parent: The node from which this node was generated.  \n",
    "\n",
    "    - state: The 7x7 numpy array representing the marble board.  \n",
    "\n",
    "    - pcost: Path cost (g(n)).  \n",
    "\n",
    "    - hcost: Heuristic cost (h(n)).  \n",
    "\n",
    "    - cost: Total cost (f(n) = g(n) + h(n)).  \n",
    "    "
   ]
  },
  {
   "cell_type": "code",
   "execution_count": null,
   "id": "0ee82233",
   "metadata": {},
   "outputs": [],
   "source": [
    "class Node:\n",
    "    def __init__(self, parent, state, pcost, hcost, action = None):\n",
    "        self.parent = parent\n",
    "        self.state = state\n",
    "        self.action = action\n",
    "        self.pcost = pcost\n",
    "        self.hcost = hcost\n",
    "        self.cost = pcost + hcost\n",
    "    \n",
    "    def __hash__(self):\n",
    "        # Hash based on the flattened state array\n",
    "        return hash(str(self.state.flatten()))\n",
    "    \n",
    "    def __str__(self):\n",
    "        return str(self.state)\n",
    "    \n",
    "    def __eq__(self, other):\n",
    "        # Equality based on state content\n",
    "        return np.array_equal(self.state, other.state)\n",
    "    \n",
    "    def __ne__(self, other):\n",
    "        return not self.__eq__(other)"
   ]
  },
  {
   "cell_type": "markdown",
   "id": "a82330fe",
   "metadata": {},
   "source": [
    "# Priority Queue Class: \n",
    "The Priority Queue Class here is used to store the nodes along with the cost, and pop the node having the least cost for BFS"
   ]
  },
  {
   "cell_type": "code",
   "execution_count": null,
   "id": "6ef21b66",
   "metadata": {},
   "outputs": [],
   "source": [
    "class PriorityQueue():\n",
    "    \n",
    "    def __init__(self):\n",
    "        self.queue = []\n",
    "        # Stores hashes of states currently in the queue to prevent duplicates\n",
    "        self.hashes = {} \n",
    "        \n",
    "    def push(self, node):\n",
    "        # Only add a node if its state hash is not already in the frontier\n",
    "        if hash(node) not in self.hashes:\n",
    "            self.hashes[hash(node)] = 1\n",
    "            self.queue.append(node)\n",
    "    \n",
    "    def pop(self):\n",
    "        # Find and pop the node with the least total cost (node.cost)\n",
    "        if not self.queue:\n",
    "            raise IndexError(\"pop from empty PriorityQueue\")\n",
    "            \n",
    "        state_cost = float('inf')\n",
    "        index = -1\n",
    "        for i in range(len(self.queue)):\n",
    "            if self.queue[i].cost < state_cost:\n",
    "                state_cost = self.queue[i].cost\n",
    "                index = i\n",
    "        \n",
    "        return self.queue.pop(index)\n",
    "    \n",
    "    def is_empty(self):\n",
    "        return len(self.queue) == 0\n",
    "    \n",
    "    def __str__(self):\n",
    "        l = [str(i.state) for i in self.queue]\n",
    "        return str(l)\n",
    "    \n",
    "    def __len__(self):\n",
    "        return len(self.queue)"
   ]
  },
  {
   "cell_type": "markdown",
   "id": "c4e2e183",
   "metadata": {},
   "source": [
    "# Environment"
   ]
  },
  {
   "cell_type": "code",
   "execution_count": null,
   "id": "70b48b38",
   "metadata": {},
   "outputs": [],
   "source": [
    "class Environment():\n",
    "    def __init__(self, start_state = None, goal_state = None):\n",
    "        self.actions = [1, 2, 3, 4] # Placeholder for move directions\n",
    "        if goal_state is None:\n",
    "            self.goal_state = self.generate_goal_state()\n",
    "        else:\n",
    "            self.goal_state = goal_state\n",
    "        if start_state is None:\n",
    "            self.start_state = self.generate_start_state()\n",
    "        else:\n",
    "            self.start_state = start_state\n",
    "    \n",
    "    def generate_start_state(self):\n",
    "        # Initializes the board with all marbles except the center hole (3,3)\n",
    "        start = np.zeros((7, 7))\n",
    "        # Mark invalid corners (-1)\n",
    "        for i in (0, 1, 5, 6):\n",
    "            for j in (0, 1, 5, 6):\n",
    "                start[i][j] = -1\n",
    "        # Mark all valid spots with marbles (1)\n",
    "        for i in range(7):\n",
    "            for j in range(7):\n",
    "                if start[i][j] != -1:\n",
    "                    start[i][j] = 1\n",
    "        # Set the center hole to empty (0)\n",
    "        start[3][3] = 0\n",
    "        return start\n",
    "    \n",
    "    def generate_goal_state(self):\n",
    "        # Goal state: only one marble at the center (3, 3)\n",
    "        goal = np.zeros((7, 7))\n",
    "        for i in (0, 1, 5, 6):\n",
    "            for j in (0, 1, 5, 6):\n",
    "                goal[i][j] = -1\n",
    "        # Mark all valid spots as empty (0)\n",
    "        for i in range(7):\n",
    "            for j in range(7):\n",
    "                if goal[i][j] != -1:\n",
    "                    goal[i][j] = 0\n",
    "        # Set the center spot to a marble (1)\n",
    "        goal[3][3] = 1\n",
    "        return goal\n",
    "\n",
    "    def get_start_state(self):\n",
    "        return self.start_state\n",
    "    \n",
    "    def get_goal_state(self):\n",
    "        return self.goal_state\n",
    "    \n",
    "    def get_next_states(self, state):\n",
    "        new_states = []\n",
    "        holes = []\n",
    "        \n",
    "        # Find all empty holes (0)\n",
    "        for i in range(7):\n",
    "            for j in range(7):\n",
    "                if state[i][j] == 0:\n",
    "                    holes.append((i, j))\n",
    "                    \n",
    "        # Check for possible jumps into each hole\n",
    "        for x_hole, y_hole in holes:\n",
    "            \n",
    "            # Vertical Jumps: Marble at x_hole-2 jumps to x_hole\n",
    "            if x_hole > 1:\n",
    "                if state[x_hole - 2][y_hole] == 1 and state[x_hole - 1][y_hole] == 1:\n",
    "                    new_state = state.copy()\n",
    "                    new_state[x_hole][y_hole] = 1      # Hole becomes marble\n",
    "                    new_state[x_hole - 2][y_hole] = 0  # Marble becomes hole\n",
    "                    new_state[x_hole - 1][y_hole] = 0  # Middle marble is removed\n",
    "                    action = f'({x_hole - 2}, {y_hole}) -> ({x_hole}, {y_hole})'\n",
    "                    new_states.append((new_state, action))\n",
    "            \n",
    "            # Vertical Jumps: Marble at x_hole+2 jumps to x_hole\n",
    "            if x_hole < 5:\n",
    "                if state[x_hole + 2][y_hole] == 1 and state[x_hole + 1][y_hole] == 1:\n",
    "                    new_state = state.copy()\n",
    "                    new_state[x_hole][y_hole] = 1      \n",
    "                    new_state[x_hole + 2][y_hole] = 0  \n",
    "                    new_state[x_hole + 1][y_hole] = 0  \n",
    "                    action = f'({x_hole + 2}, {y_hole}) -> ({x_hole}, {y_hole})'\n",
    "                    new_states.append((new_state, action))\n",
    "            \n",
    "            # Horizontal Jumps: Marble at y_hole-2 jumps to y_hole\n",
    "            if y_hole > 1:\n",
    "                if state[x_hole][y_hole - 2] == 1 and state[x_hole][y_hole - 1] == 1:\n",
    "                    new_state = state.copy()\n",
    "                    new_state[x_hole][y_hole] = 1      \n",
    "                    new_state[x_hole][y_hole - 2] = 0  \n",
    "                    new_state[x_hole][y_hole - 1] = 0  \n",
    "                    action = f'({x_hole}, {y_hole - 2}) -> ({x_hole}, {y_hole})'\n",
    "                    new_states.append((new_state, action))\n",
    "            \n",
    "            # Horizontal Jumps: Marble at y_hole+2 jumps to y_hole\n",
    "            if y_hole < 5:\n",
    "                if state[x_hole][y_hole + 2] == 1 and state[x_hole][y_hole + 1] == 1:\n",
    "                    new_state = state.copy()\n",
    "                    new_state[x_hole][y_hole] = 1      \n",
    "                    new_state[x_hole][y_hole + 2] = 0  \n",
    "                    new_state[x_hole][y_hole + 1] = 0  \n",
    "                    action = f'({x_hole}, {y_hole + 2}) -> ({x_hole}, {y_hole})'\n",
    "                    new_states.append((new_state, action))\n",
    "                    \n",
    "        return new_states\n",
    "    \n",
    "    def reached_goal(self, state):\n",
    "        # Compare current state with goal state\n",
    "        return np.array_equal(state, self.goal_state)"
   ]
  },
  {
   "cell_type": "markdown",
   "id": "3d5369a1",
   "metadata": {},
   "source": [
    "# Heuristic Functions"
   ]
  },
  {
   "cell_type": "markdown",
   "id": "d6413e3b",
   "metadata": {},
   "source": [
    "### Heuristic 0 (Null Heuristic for A*)"
   ]
  },
  {
   "cell_type": "code",
   "execution_count": 5,
   "id": "af1c8834",
   "metadata": {},
   "outputs": [],
   "source": [
    "def heuristic0(curr_state):\n",
    "    return 0"
   ]
  },
  {
   "cell_type": "markdown",
   "id": "1c4a177b",
   "metadata": {},
   "source": [
    "### Heuristic 1 (Manhattan Distance)"
   ]
  },
  {
   "cell_type": "code",
   "execution_count": 12,
   "id": "29120b47",
   "metadata": {},
   "outputs": [],
   "source": [
    "def heuristic1(curr_state):\n",
    "    cost = 0\n",
    "    center_row, center_col = 3, 3\n",
    "    for i in range(7):\n",
    "        for j in range(7):\n",
    "            if curr_state[i][j] == 1:\n",
    "                cost += abs(i - center_row) + abs(j - center_col)\n",
    "    return cost"
   ]
  },
  {
   "cell_type": "markdown",
   "id": "24968d21",
   "metadata": {},
   "source": [
    "### Heuristic 2 (Exponential Distance)"
   ]
  },
  {
   "cell_type": "code",
   "execution_count": 6,
   "id": "eb72b9b3",
   "metadata": {},
   "outputs": [],
   "source": [
    "def heuristic2(curr_state):\n",
    "    cost = 0\n",
    "    center_row, center_col = 3, 3\n",
    "    for i in range(7):\n",
    "        for j in range(7):\n",
    "            if curr_state[i][j] == 1:\n",
    "                h_dist = abs(i - center_row)\n",
    "                v_dist = abs(j - center_col)\n",
    "                cost += 2 ** (max(h_dist, v_dist))\n",
    "    return cost\n"
   ]
  },
  {
   "cell_type": "markdown",
   "id": "0d6a7db1",
   "metadata": {},
   "source": [
    "# Agent Class (A-star Search)"
   ]
  },
  {
   "cell_type": "code",
   "execution_count": 7,
   "id": "2259b346",
   "metadata": {},
   "outputs": [],
   "source": [
    "class Agent:\n",
    "    def __init__(self, env, heuristic):\n",
    "        self.frontier = PriorityQueue()\n",
    "        self.explored = dict()\n",
    "        self.start_state = env.get_start_state()\n",
    "        self.goal_state = env.get_goal_state()\n",
    "        self.env = env\n",
    "        self.goal_node = None\n",
    "        self.heuristic = heuristic\n",
    "    \n",
    "    def run(self):\n",
    "        h_start = self.heuristic(self.start_state)\n",
    "        init_node = Node(parent = None, state = self.start_state, pcost = 0, hcost = h_start)\n",
    "        self.frontier.push(init_node)\n",
    "        start = time()\n",
    "        \n",
    "        while not self.frontier.is_empty():\n",
    "            curr_node = self.frontier.pop()\n",
    "            \n",
    "            # Skip if already explored\n",
    "            if hash(curr_node) in self.explored:\n",
    "                continue\n",
    "            \n",
    "            self.explored[hash(curr_node)] = curr_node\n",
    "            \n",
    "            if self.env.reached_goal(curr_node.state):\n",
    "                print(\"Reached goal!\")\n",
    "                self.goal_node = curr_node\n",
    "                break\n",
    "\n",
    "            next_states_with_actions = self.env.get_next_states(curr_node.state)\n",
    "            \n",
    "            for state_data in next_states_with_actions:\n",
    "                new_state = state_data[0]\n",
    "                action = state_data[1]\n",
    "                \n",
    "                hcost = self.heuristic(new_state)\n",
    "                pcost = curr_node.pcost + 1 # Path cost increases by 1 per move\n",
    "                \n",
    "                node = Node(parent=curr_node, state=new_state, pcost=pcost, hcost=hcost, action=action)\n",
    "                self.frontier.push(node)\n",
    "\n",
    "        end = time()\n",
    "        time_taken = end - start\n",
    "        print(time_taken)\n",
    "        return time_taken\n",
    "    \n",
    "    def print_nodes(self):\n",
    "        node = self.goal_node\n",
    "        l = []\n",
    "        while node is not None:\n",
    "            l.append(node)\n",
    "            node = node.parent\n",
    "\n",
    "        step = 1\n",
    "        for node in l[::-1]:\n",
    "            print(\"Current step: \", step)\n",
    "            if node.action is not None:\n",
    "                print(node.action)\n",
    "            step += 1\n"
   ]
  },
  {
   "cell_type": "markdown",
   "id": "a344b6a0",
   "metadata": {},
   "source": [
    "# A-star Search with Heuristic 2"
   ]
  },
  {
   "cell_type": "code",
   "execution_count": 8,
   "id": "bcd3fbcb",
   "metadata": {},
   "outputs": [
    {
     "name": "stdout",
     "output_type": "stream",
     "text": [
      "Reached goal!\n",
      "29.36630415916443\n",
      "Reached goal!\n",
      "29.212907314300537\n",
      "Reached goal!\n",
      "29.161952257156372\n",
      "Reached goal!\n",
      "29.217090368270874\n",
      "Reached goal!\n",
      "28.99008798599243\n",
      "Average time 29.18966841697693\n",
      "Total number of nodes explored: 33353\n",
      "Total number of nodes in frontier: 213\n"
     ]
    }
   ],
   "source": [
    "t = 0\n",
    "runs = 5\n",
    "for i in range(runs):\n",
    "    agent = Agent(Environment(), heuristic2)\n",
    "    t += agent.run()\n",
    "\n",
    "print(f\"Average time {t / runs}\")\n",
    "print(f\"Total number of nodes explored: {len(agent.explored)}\")\n",
    "print(f\"Total number of nodes in frontier: {len(agent.frontier)}\")"
   ]
  },
  {
   "cell_type": "markdown",
   "id": "54dfa3e2",
   "metadata": {},
   "source": [
    "# Agent Class (Best First Search)"
   ]
  },
  {
   "cell_type": "code",
   "execution_count": 9,
   "id": "cf29ac4c",
   "metadata": {},
   "outputs": [],
   "source": [
    "class BestFirstAgent:\n",
    "    \n",
    "    def __init__(self, env, heuristic):\n",
    "        self.frontier = PriorityQueue()\n",
    "        self.explored = dict()\n",
    "        self.start_state = env.get_start_state()\n",
    "        self.goal_state = env.get_goal_state()\n",
    "        self.env = env\n",
    "        self.goal_node = None\n",
    "        self.heuristic = heuristic\n",
    "    \n",
    "    def run(self):\n",
    "        h_start = self.heuristic(self.start_state)\n",
    "        # pcost is set to 0 for Best First Search\n",
    "        init_node = Node(parent = None, state = self.start_state, pcost = 0, hcost = h_start)\n",
    "        self.frontier.push(init_node)\n",
    "        start = time()\n",
    "        \n",
    "        while not self.frontier.is_empty():\n",
    "            curr_node = self.frontier.pop()\n",
    "\n",
    "            if hash(curr_node) in self.explored:\n",
    "                continue\n",
    "                \n",
    "            self.explored[hash(curr_node)] = curr_node\n",
    "\n",
    "            if self.env.reached_goal(curr_node.state):\n",
    "                print(\"Reached goal!\")\n",
    "                self.goal_node = curr_node\n",
    "                break\n",
    "\n",
    "            next_states_with_actions = self.env.get_next_states(curr_node.state)\n",
    "            \n",
    "            for state_data in next_states_with_actions:\n",
    "                new_state = state_data[0]\n",
    "                action = state_data[1]\n",
    "                \n",
    "                hcost = self.heuristic(new_state)\n",
    "                pcost = 0 # Crucial: pcost=0 for Best First Search\n",
    "                \n",
    "                node = Node(parent=curr_node, state=new_state, pcost=pcost, hcost=hcost, action=action)\n",
    "                self.frontier.push(node)\n",
    "        \n",
    "        end = time()\n",
    "        time_taken = end - start\n",
    "        print(time_taken)\n",
    "        return time_taken\n",
    "    \n",
    "    def print_nodes(self):\n",
    "        node = self.goal_node\n",
    "        l = []\n",
    "        while node is not None:\n",
    "            l.append(node)\n",
    "            node = node.parent\n",
    "\n",
    "        step = 1\n",
    "        for node in l[::-1]:\n",
    "            print(\"Current step: \",step)\n",
    "            if node.action is not None:\n",
    "                print(node.action)\n",
    "            step+=1"
   ]
  },
  {
   "cell_type": "markdown",
   "id": "3173a33b",
   "metadata": {},
   "source": [
    "# Best First Search with Heuristic 2"
   ]
  },
  {
   "cell_type": "code",
   "execution_count": 10,
   "id": "d35d9247",
   "metadata": {},
   "outputs": [
    {
     "name": "stdout",
     "output_type": "stream",
     "text": [
      "Reached goal!\n",
      "36.75907325744629\n",
      "Reached goal!\n",
      "79.66413688659668\n",
      "Reached goal!\n",
      "80.28227162361145\n",
      "Reached goal!\n",
      "62.54608678817749\n",
      "Reached goal!\n",
      "31.870707988739014\n",
      "Average time 58.22445530891419\n",
      "Total number of nodes explored: 35997\n",
      "Total number of nodes in frontier: 133\n"
     ]
    }
   ],
   "source": [
    "t = 0\n",
    "runs = 5\n",
    "for i in range(runs):\n",
    "    agent = BestFirstAgent(Environment(), heuristic2) \n",
    "    t += agent.run()\n",
    "    \n",
    "print(f\"Average time {t / runs}\")\n",
    "print(f\"Total number of nodes explored: {len(agent.explored)}\")\n",
    "print(f\"Total number of nodes in frontier: {len(agent.frontier)}\")"
   ]
  },
  {
   "cell_type": "markdown",
   "id": "dd331dd4",
   "metadata": {},
   "source": [
    "# Best First Search with Heuristic 1"
   ]
  },
  {
   "cell_type": "code",
   "execution_count": 13,
   "id": "540a16cd",
   "metadata": {},
   "outputs": [
    {
     "name": "stdout",
     "output_type": "stream",
     "text": [
      "Reached goal!\n",
      "139.57226729393005\n",
      "Reached goal!\n",
      "162.16319155693054\n",
      "Reached goal!\n",
      "265.655553817749\n",
      "Reached goal!\n",
      "183.54784274101257\n",
      "Reached goal!\n",
      "124.5057008266449\n",
      "Average time 175.0889112472534\n",
      "Total number of nodes explored: 139663\n",
      "Total number of nodes in frontier: 146\n"
     ]
    }
   ],
   "source": [
    "tm = 0\n",
    "runs = 5\n",
    "for i in range(runs):\n",
    "    agent = BestFirstAgent(Environment(), heuristic1) \n",
    "    tm += agent.run()\n",
    "    \n",
    "print(f\"Average time {tm / runs}\")\n",
    "print(f\"Total number of nodes explored: {len(agent.explored)}\")\n",
    "print(f\"Total number of nodes in frontier: {len(agent.frontier)}\")"
   ]
  },
  {
   "cell_type": "code",
   "execution_count": null,
   "id": "67103a3e",
   "metadata": {},
   "outputs": [],
   "source": []
  }
 ],
 "metadata": {
  "kernelspec": {
   "display_name": "Python 3",
   "language": "python",
   "name": "python3"
  },
  "language_info": {
   "codemirror_mode": {
    "name": "ipython",
    "version": 3
   },
   "file_extension": ".py",
   "mimetype": "text/x-python",
   "name": "python",
   "nbconvert_exporter": "python",
   "pygments_lexer": "ipython3",
   "version": "3.12.6"
  }
 },
 "nbformat": 4,
 "nbformat_minor": 5
}
